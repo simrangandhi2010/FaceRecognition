import cv2
face_cascade=cv2.CascadeClassifier(r'C:\Users\gandh\anaconda3\pkgs\opencv-4.0.1-py38h2a7c758_0\info\haarcascade_frontalface_default.xml')
img = cv2.imread(r'C:\Users\gandh\anaconda3\pkgs\opencv-4.0.1-py38h2a7c758_0\info\1.jpg')
gray = cv2.cvtColor(img, cv2.COLOR_BGR2GRAY)
faces = face_cascade.detectMultiScale(gray, 1.1,6)
for(x,y,w,h) in faces:
    cv2.rectangle(img,(x,y),(x+w,y+h),(255,0,0),2)
cv2.imshow('img',img)
cv2.waitKey()
